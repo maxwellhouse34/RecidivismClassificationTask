{
  "nbformat": 4,
  "nbformat_minor": 0,
  "metadata": {
    "kernelspec": {
      "display_name": "Python 3",
      "language": "python",
      "name": "python3"
    },
    "language_info": {
      "codemirror_mode": {
        "name": "ipython",
        "version": 3
      },
      "file_extension": ".py",
      "mimetype": "text/x-python",
      "name": "python",
      "nbconvert_exporter": "python",
      "pygments_lexer": "ipython3",
      "version": "3.8.5"
    },
    "colab": {
      "name": "Recidivism Classification and Feature Analysis",
      "provenance": [],
      "collapsed_sections": [
        "Ap8hgmegEtVl",
        "de_J4deOEtVs"
      ]
    }
  },
  "cells": [
    {
      "cell_type": "markdown",
      "metadata": {
        "id": "NTeWE8bfEtVf"
      },
      "source": [
        "# Recidivism in Broward County, a Classification Study\n",
        "\n",
        "\n",
        "\n"
      ]
    },
    {
      "cell_type": "code",
      "metadata": {
        "scrolled": true,
        "id": "ln5wPO7KEtVk"
      },
      "source": [
        "import pandas as pd\n",
        "import numpy as np\n",
        "import matplotlib.pyplot as plt\n",
        "import seaborn as sns\n",
        "import matplotlib\n",
        "import datetime as dt\n",
        "\n",
        "np.random.seed(42)\n"
      ],
      "execution_count": 527,
      "outputs": []
    },
    {
      "cell_type": "markdown",
      "metadata": {
        "id": "Ap8hgmegEtVl"
      },
      "source": [
        "# Data Cleaning/EDA\n"
      ]
    },
    {
      "cell_type": "markdown",
      "metadata": {
        "id": "4Jvi9cu5xShp"
      },
      "source": [
        "To begin, extraneous data is removed from the dataset. All features here are either:\n",
        "- name\n",
        "- dates not relevant to analysis (i.e. screening date)\n",
        "- case numbers/id codes\n",
        "- recidivism specific markers (i.e. r_charge_degree is a prisoner's crime when they recidiviate)"
      ]
    },
    {
      "cell_type": "code",
      "metadata": {
        "id": "7EBEmiHKEtVl"
      },
      "source": [
        "#upload data, drop columns, and prep some data for joining\n",
        "\n",
        "df = pd.read_csv(\"https://raw.githubusercontent.com/maxwellhouse34/MetisClassification/e5899f189c76e1fcf05f6fa7a2d8287feb8213af/compas-scores-two-years.csv\", \n",
        "                 parse_dates = [\"dob\", \"c_jail_in\", \"c_jail_out\", \"c_offense_date\", \"c_arrest_date\"])\n",
        "df.drop([#id/Compas specific values not useful\n",
        "         \"name\", \n",
        "         \"compas_screening_date\",\n",
        "         \"days_b_screening_arrest\",\n",
        "         \"age_cat\", #age available as continuous variable\n",
        "         \"c_case_number\", \n",
        "         \"c_days_from_compas\", \n",
        "         \"screening_date\",\n",
        "         'decile_score.1',\n",
        "         #post recidivism features; not useful in prediction\n",
        "         \"r_case_number\", \n",
        "         \"r_charge_degree\", \n",
        "         'r_days_from_arrest',\n",
        "         'r_offense_date', \n",
        "         'r_jail_in', \n",
        "         'r_jail_out',\n",
        "         'vr_offense_date', \n",
        "         \"v_screening_date\", \n",
        "         \"v_type_of_assessment\", \n",
        "         \"vr_case_number\", \n",
        "         \"vr_charge_degree\",\n",
        "         \"score_text\",\n",
        "         \"v_score_text\",\n",
        "         \"violent_recid\",\n",
        "         \"priors_count.1\",\n",
        "         \"start\",\n",
        "         \"end\",\n",
        "         \"in_custody\",\n",
        "         \"out_custody\",\n",
        "         \"event\",\n",
        "         \"r_charge_desc\",\n",
        "         \"v_decile_score\",\n",
        "         \"vr_charge_desc\",\n",
        "         \"type_of_assessment\"], axis = 1, inplace = True)\n",
        "df[\"first\"] = df[\"first\"].str.lower()\n",
        "df[\"last\"] = df[\"last\"].str.lower()\n",
        "\n",
        "df[\"sex\"] = (df[\"sex\"] == \"Male\").astype(\"int\")\n",
        "\n",
        "\n",
        "\n"
      ],
      "execution_count": 528,
      "outputs": []
    },
    {
      "cell_type": "markdown",
      "metadata": {
        "id": "eE7Pcq6v7wio"
      },
      "source": [
        "Remaining Features (more will be removed as they are not needed for analysis)\n",
        "- first: first name\n",
        "- last: last name\n",
        "- sex: 1 for male, 0 for female\n",
        "- race: race, one of 6\n",
        "- juv_fel_count: how many felonies as a juvenile\n",
        "- decile_score: compas score\n",
        "- juv_misd_count: how many misdemeanors as juvenile\n",
        "- priors_counts: proior adult offenses\n",
        "- c_jail_in/out: initial crime start and end dates\n",
        "- c_offense_date: when did offense happen\n",
        "- c_arrest date: when arrested\n",
        "- c_charge_degree: felony, misdemeanor, or other\n",
        "- c_charge_desc: description of charge\n",
        "- is_recid: marker for recidivism\n",
        "- is_violent_recid: marker for violent recidivism\n",
        "- two_year_recid: marker for recidivism in two years\n"
      ]
    },
    {
      "cell_type": "markdown",
      "metadata": {
        "id": "gYpLKKJeFZhj"
      },
      "source": [
        "To identify the length of stay, I subtracted the start from the end date and converted the difference into days. I also created a marker for if the prisoner did not enter jail, for prisoners who's crimes did not lead to jailtime or were released with time served."
      ]
    },
    {
      "cell_type": "code",
      "metadata": {
        "id": "1KCL9JkxEtVm"
      },
      "source": [
        "df[\"stay_length_day\"] = (df[\"c_jail_out\"]- df[\"c_jail_in\"]).dt.days +1\n",
        "df[\"entered_jail\"] = (~df[\"stay_length_day\"].isna()).astype(\"int\")\n",
        "df[\"stay_length_day\"].fillna(0, inplace = True)\n",
        "df[\"stay_length_day\"] = df[\"stay_length_day\"].astype(\"int\")\n",
        "\n"
      ],
      "execution_count": 529,
      "outputs": []
    },
    {
      "cell_type": "markdown",
      "metadata": {
        "id": "2gmPF1hAFtTI"
      },
      "source": [
        "There are hundreds of specific charges, so I wanted to narrow the categories down to specific types. To do so, I created word stems that occured in the most common sentences, and searched each sentence for any of those key words. Fortunately, not many of the sentences had multiple key words (i.e. Vehicular Manslaughter was not in the list). To account for those that do, I created a higher priority dictionary that comes first to filter those values (Manslaughter instead of Vehicluar, as I would want that crime classified within Murder/Manslaughter)"
      ]
    },
    {
      "cell_type": "code",
      "metadata": {
        "id": "1sYDiLFgEtVn"
      },
      "source": [
        "def sentence_type_processor (sentence):\n",
        "    if pd.isna(sentence):\n",
        "        return sentence\n",
        "    sentence = sentence.lower()\n",
        "    descriptor_crime_dict = {\"dom\":\"Domestic Abuse\",\n",
        "                             \"repeat viol\":\"Domestic Abuse\",\n",
        "                             \"child\" : \"Child\",\n",
        "                             \"rape\": \"Sexual\",\n",
        "                             \"exposure\": \"Sexual\",\n",
        "                             \"prostit\": \"Sexual\",\n",
        "                             \"molest\" : \"Sexual\",\n",
        "                             \"sex\": \"Sexual\",\n",
        "                             \"solicitation\": \"Sexual\",\n",
        "                             \"arson\": \"Arson\",\n",
        "                             \"shoot\": \"Firearm\",\n",
        "                             \"murder\":\"Murder\",\n",
        "                             \"manslaughter\": \"Murder\"                     \n",
        "    }\n",
        "\n",
        "\n",
        "    crime_dict = {\"no charge\" : \"No Charge\",\n",
        "                 \"dui\":\"Driving\",\n",
        "                 \"driv\": \"Driving\",\n",
        "                 \"license\" : \"Driving\",\n",
        "                 \"fleeing\": \"Driving\",\n",
        "                 \"veh\": \"Driving\",\n",
        "                 \"accident\" : \"Driving\",\n",
        "                 \"lictag\" : \"Driving\",\n",
        "                 \"dl\" : \"Driving\",\n",
        "                 \"cocaine\": \"Drugs\",\n",
        "                 \"meth\": \"Drugs\",\n",
        "                 \"contraband\" : \"Drugs\",\n",
        "                 \"cannabis\": \"Drugs\",\n",
        "                 \"drugs\": \"Drugs\",\n",
        "                 \"poss\" : \"Drugs\",\n",
        "                 \"traffick\": \"Drugs\",\n",
        "                 \"kidnapping\":\"Kidnapping/Stalking\",\n",
        "                 \"imprisonment\" : \"Kidnapping/Stalking\",\n",
        "                 \"stalking\" : \"Kidnapping/Stalking\",\n",
        "                 \"theft\" : \"Theft\",\n",
        "                 \"burg\": \"Theft\",\n",
        "                 \"stolen\": \"Theft\",\n",
        "                 \"larceny\": \"Theft\",\n",
        "                 \"robber\": \"Theft\",\n",
        "                 \"embezzlement\": \"Theft\",\n",
        "                 \"ownership\" : \"Theft\",\n",
        "                 \"fraud\": \"Theft\",\n",
        "                 \"corrupt\": \"Theft\",\n",
        "                 \"false\" : \"Theft\",\n",
        "                 \"forg\":\"Theft\",\n",
        "                 \"tres\": \"Theft\",\n",
        "                 \"personal id\": \"Theft\",\n",
        "                 \"shoplifting\": \"Theft\",\n",
        "                 \"assault\": \"Assault/Battery\",\n",
        "                 \"batt\": \"Assault/Battery\",\n",
        "                 \"mischief\": \"Mischief\",\n",
        "                 \"damage\": \"Assualt/Battery\",\n",
        "                 \"negligence\": \"Assault/Battery\",\n",
        "                 \"firearm\": \"Firearm\",\n",
        "                 \"tamper\": \"Interference\",\n",
        "                 \"resist\": \"Interference\",\n",
        "                 \"obey\" : \"Interference\",\n",
        "                 \"obstruct\": \"Interference\",\n",
        "                 \"disorderly\": \"Disorder\",\n",
        "                 \"loitering\": \"Disorder\"}\n",
        "    for keyword in descriptor_crime_dict.keys():\n",
        "        if sentence.find(keyword) >= 0:\n",
        "                return descriptor_crime_dict[keyword]\n",
        "    for keyword in crime_dict.keys():   \n",
        "        if sentence.find(keyword) >= 0:\n",
        "                return crime_dict[keyword]\n",
        "    return \"Other\"\n",
        "\n",
        "df[\"charge_category\"] = df[\"c_charge_desc\"].apply(sentence_type_processor)\n"
      ],
      "execution_count": 530,
      "outputs": []
    },
    {
      "cell_type": "markdown",
      "metadata": {
        "id": "uEqoSttgINsV"
      },
      "source": [
        "Final cleanup before analysis. \n",
        "- Include a felony marker\n",
        "- Drop identifying data, features that I have processed already, and extra features that didn't apply\n",
        "- Drop missing values (only a few prisoners) to allow for logisitic regression\n",
        "\n"
      ]
    },
    {
      "cell_type": "code",
      "metadata": {
        "id": "IJPN4057EtVn"
      },
      "source": [
        "#create felony marker\n",
        "df[\"felony\"] = (df[\"c_charge_degree\"] == \"F\").astype(\"int\")\n",
        "\n",
        "# drop unecessary data\n",
        "df.drop([\"id\",\n",
        "         \"dob\",\n",
        "         \"first\", \n",
        "         \"last\",\n",
        "         \"c_charge_desc\",\n",
        "         \"c_jail_in\",\n",
        "         \"c_jail_out\", \n",
        "         \"c_offense_date\", \n",
        "         \"c_arrest_date\",\n",
        "         \"c_charge_degree\"], axis= 1, inplace = True)\n",
        "\n",
        "#drop missing charge data\n",
        "df.fillna(\"Other\", inplace = True)"
      ],
      "execution_count": 531,
      "outputs": []
    },
    {
      "cell_type": "markdown",
      "metadata": {
        "id": "AB8hiFf9EtVo"
      },
      "source": [
        "## EDA"
      ]
    },
    {
      "cell_type": "code",
      "metadata": {
        "colab": {
          "base_uri": "https://localhost:8080/"
        },
        "id": "AVmwWrzfGw7d",
        "outputId": "4991284e-ff21-408b-a5c6-c0229a00e781"
      },
      "source": [
        "df.info()"
      ],
      "execution_count": 532,
      "outputs": [
        {
          "output_type": "stream",
          "name": "stdout",
          "text": [
            "<class 'pandas.core.frame.DataFrame'>\n",
            "RangeIndex: 7214 entries, 0 to 7213\n",
            "Data columns (total 15 columns):\n",
            " #   Column            Non-Null Count  Dtype \n",
            "---  ------            --------------  ----- \n",
            " 0   sex               7214 non-null   int64 \n",
            " 1   age               7214 non-null   int64 \n",
            " 2   race              7214 non-null   object\n",
            " 3   juv_fel_count     7214 non-null   int64 \n",
            " 4   decile_score      7214 non-null   int64 \n",
            " 5   juv_misd_count    7214 non-null   int64 \n",
            " 6   juv_other_count   7214 non-null   int64 \n",
            " 7   priors_count      7214 non-null   int64 \n",
            " 8   is_recid          7214 non-null   int64 \n",
            " 9   is_violent_recid  7214 non-null   int64 \n",
            " 10  two_year_recid    7214 non-null   int64 \n",
            " 11  stay_length_day   7214 non-null   int64 \n",
            " 12  entered_jail      7214 non-null   int64 \n",
            " 13  charge_category   7214 non-null   object\n",
            " 14  felony            7214 non-null   int64 \n",
            "dtypes: int64(13), object(2)\n",
            "memory usage: 845.5+ KB\n"
          ]
        }
      ]
    },
    {
      "cell_type": "code",
      "metadata": {
        "colab": {
          "base_uri": "https://localhost:8080/",
          "height": 317
        },
        "id": "vQXQoCJREtVp",
        "outputId": "dbc5cee6-bd29-4556-9208-28f688050d04"
      },
      "source": [
        "df.describe()"
      ],
      "execution_count": 533,
      "outputs": [
        {
          "output_type": "execute_result",
          "data": {
            "text/html": [
              "<div>\n",
              "<style scoped>\n",
              "    .dataframe tbody tr th:only-of-type {\n",
              "        vertical-align: middle;\n",
              "    }\n",
              "\n",
              "    .dataframe tbody tr th {\n",
              "        vertical-align: top;\n",
              "    }\n",
              "\n",
              "    .dataframe thead th {\n",
              "        text-align: right;\n",
              "    }\n",
              "</style>\n",
              "<table border=\"1\" class=\"dataframe\">\n",
              "  <thead>\n",
              "    <tr style=\"text-align: right;\">\n",
              "      <th></th>\n",
              "      <th>sex</th>\n",
              "      <th>age</th>\n",
              "      <th>juv_fel_count</th>\n",
              "      <th>decile_score</th>\n",
              "      <th>juv_misd_count</th>\n",
              "      <th>juv_other_count</th>\n",
              "      <th>priors_count</th>\n",
              "      <th>is_recid</th>\n",
              "      <th>is_violent_recid</th>\n",
              "      <th>two_year_recid</th>\n",
              "      <th>stay_length_day</th>\n",
              "      <th>entered_jail</th>\n",
              "      <th>felony</th>\n",
              "    </tr>\n",
              "  </thead>\n",
              "  <tbody>\n",
              "    <tr>\n",
              "      <th>count</th>\n",
              "      <td>7214.000000</td>\n",
              "      <td>7214.000000</td>\n",
              "      <td>7214.000000</td>\n",
              "      <td>7214.000000</td>\n",
              "      <td>7214.000000</td>\n",
              "      <td>7214.000000</td>\n",
              "      <td>7214.000000</td>\n",
              "      <td>7214.000000</td>\n",
              "      <td>7214.000000</td>\n",
              "      <td>7214.000000</td>\n",
              "      <td>7214.000000</td>\n",
              "      <td>7214.000000</td>\n",
              "      <td>7214.000000</td>\n",
              "    </tr>\n",
              "    <tr>\n",
              "      <th>mean</th>\n",
              "      <td>0.806626</td>\n",
              "      <td>34.817993</td>\n",
              "      <td>0.067230</td>\n",
              "      <td>4.509565</td>\n",
              "      <td>0.090934</td>\n",
              "      <td>0.109371</td>\n",
              "      <td>3.472415</td>\n",
              "      <td>0.481148</td>\n",
              "      <td>0.113529</td>\n",
              "      <td>0.450652</td>\n",
              "      <td>18.416828</td>\n",
              "      <td>0.957444</td>\n",
              "      <td>0.646798</td>\n",
              "    </tr>\n",
              "    <tr>\n",
              "      <th>std</th>\n",
              "      <td>0.394971</td>\n",
              "      <td>11.888922</td>\n",
              "      <td>0.473972</td>\n",
              "      <td>2.856396</td>\n",
              "      <td>0.485239</td>\n",
              "      <td>0.501586</td>\n",
              "      <td>4.882538</td>\n",
              "      <td>0.499679</td>\n",
              "      <td>0.317261</td>\n",
              "      <td>0.497593</td>\n",
              "      <td>50.140647</td>\n",
              "      <td>0.201868</td>\n",
              "      <td>0.477998</td>\n",
              "    </tr>\n",
              "    <tr>\n",
              "      <th>min</th>\n",
              "      <td>0.000000</td>\n",
              "      <td>18.000000</td>\n",
              "      <td>0.000000</td>\n",
              "      <td>1.000000</td>\n",
              "      <td>0.000000</td>\n",
              "      <td>0.000000</td>\n",
              "      <td>0.000000</td>\n",
              "      <td>0.000000</td>\n",
              "      <td>0.000000</td>\n",
              "      <td>0.000000</td>\n",
              "      <td>0.000000</td>\n",
              "      <td>0.000000</td>\n",
              "      <td>0.000000</td>\n",
              "    </tr>\n",
              "    <tr>\n",
              "      <th>25%</th>\n",
              "      <td>1.000000</td>\n",
              "      <td>25.000000</td>\n",
              "      <td>0.000000</td>\n",
              "      <td>2.000000</td>\n",
              "      <td>0.000000</td>\n",
              "      <td>0.000000</td>\n",
              "      <td>0.000000</td>\n",
              "      <td>0.000000</td>\n",
              "      <td>0.000000</td>\n",
              "      <td>0.000000</td>\n",
              "      <td>1.000000</td>\n",
              "      <td>1.000000</td>\n",
              "      <td>0.000000</td>\n",
              "    </tr>\n",
              "    <tr>\n",
              "      <th>50%</th>\n",
              "      <td>1.000000</td>\n",
              "      <td>31.000000</td>\n",
              "      <td>0.000000</td>\n",
              "      <td>4.000000</td>\n",
              "      <td>0.000000</td>\n",
              "      <td>0.000000</td>\n",
              "      <td>2.000000</td>\n",
              "      <td>0.000000</td>\n",
              "      <td>0.000000</td>\n",
              "      <td>0.000000</td>\n",
              "      <td>2.000000</td>\n",
              "      <td>1.000000</td>\n",
              "      <td>1.000000</td>\n",
              "    </tr>\n",
              "    <tr>\n",
              "      <th>75%</th>\n",
              "      <td>1.000000</td>\n",
              "      <td>42.000000</td>\n",
              "      <td>0.000000</td>\n",
              "      <td>7.000000</td>\n",
              "      <td>0.000000</td>\n",
              "      <td>0.000000</td>\n",
              "      <td>5.000000</td>\n",
              "      <td>1.000000</td>\n",
              "      <td>0.000000</td>\n",
              "      <td>1.000000</td>\n",
              "      <td>9.000000</td>\n",
              "      <td>1.000000</td>\n",
              "      <td>1.000000</td>\n",
              "    </tr>\n",
              "    <tr>\n",
              "      <th>max</th>\n",
              "      <td>1.000000</td>\n",
              "      <td>96.000000</td>\n",
              "      <td>20.000000</td>\n",
              "      <td>10.000000</td>\n",
              "      <td>13.000000</td>\n",
              "      <td>17.000000</td>\n",
              "      <td>38.000000</td>\n",
              "      <td>1.000000</td>\n",
              "      <td>1.000000</td>\n",
              "      <td>1.000000</td>\n",
              "      <td>800.000000</td>\n",
              "      <td>1.000000</td>\n",
              "      <td>1.000000</td>\n",
              "    </tr>\n",
              "  </tbody>\n",
              "</table>\n",
              "</div>"
            ],
            "text/plain": [
              "               sex          age  ...  entered_jail       felony\n",
              "count  7214.000000  7214.000000  ...   7214.000000  7214.000000\n",
              "mean      0.806626    34.817993  ...      0.957444     0.646798\n",
              "std       0.394971    11.888922  ...      0.201868     0.477998\n",
              "min       0.000000    18.000000  ...      0.000000     0.000000\n",
              "25%       1.000000    25.000000  ...      1.000000     0.000000\n",
              "50%       1.000000    31.000000  ...      1.000000     1.000000\n",
              "75%       1.000000    42.000000  ...      1.000000     1.000000\n",
              "max       1.000000    96.000000  ...      1.000000     1.000000\n",
              "\n",
              "[8 rows x 13 columns]"
            ]
          },
          "metadata": {},
          "execution_count": 533
        }
      ]
    },
    {
      "cell_type": "code",
      "metadata": {
        "colab": {
          "base_uri": "https://localhost:8080/",
          "height": 358
        },
        "id": "8AvDK5JRkd45",
        "outputId": "092c6cdc-aa8a-4aab-e247-995e692a1dab"
      },
      "source": [
        "df.race.value_counts().plot(kind=\"bar\")"
      ],
      "execution_count": 534,
      "outputs": [
        {
          "output_type": "execute_result",
          "data": {
            "text/plain": [
              "<matplotlib.axes._subplots.AxesSubplot at 0x7f48ef511f50>"
            ]
          },
          "metadata": {},
          "execution_count": 534
        },
        {
          "output_type": "display_data",
          "data": {
            "image/png": "[encoded data removed]",
            "text/plain": [
              "<Figure size 432x288 with 1 Axes>"
            ]
          },
          "metadata": {}
        }
      ]
    },
    {
      "cell_type": "markdown",
      "metadata": {
        "id": "Sjhz8NuJEtVq"
      },
      "source": [
        "### Noticings\n",
        "\n",
        "- Target variable: 45% recidivism within two years\n",
        "- 80% male\n",
        "- average age is 34, median age is 31, result of outlier ages.\n",
        "- most do not have juvenile records\n",
        "- 3 priors on average, 2 priors is median, indicating outlier priors (people with lots of priors bring average up)\n",
        "- 4% have no jail sentence\n",
        "- Average stay is 18 days, but over half stay under 2 days\n",
        "- Over 50% Black\n",
        "- Assault, Driving, Drug, Theft based crime is vast majority of arrests\n",
        "- Significant number (16%) held without being charged\n"
      ]
    },
    {
      "cell_type": "code",
      "metadata": {
        "colab": {
          "base_uri": "https://localhost:8080/",
          "height": 472
        },
        "id": "L0SfxNgyEtVr",
        "outputId": "8d2164d6-00e7-4d28-a88b-f5d7d522aa71"
      },
      "source": [
        "# sns.heatmap(df.corr())\n",
        "df.corr()"
      ],
      "execution_count": 535,
      "outputs": [
        {
          "output_type": "execute_result",
          "data": {
            "text/html": [
              "<div>\n",
              "<style scoped>\n",
              "    .dataframe tbody tr th:only-of-type {\n",
              "        vertical-align: middle;\n",
              "    }\n",
              "\n",
              "    .dataframe tbody tr th {\n",
              "        vertical-align: top;\n",
              "    }\n",
              "\n",
              "    .dataframe thead th {\n",
              "        text-align: right;\n",
              "    }\n",
              "</style>\n",
              "<table border=\"1\" class=\"dataframe\">\n",
              "  <thead>\n",
              "    <tr style=\"text-align: right;\">\n",
              "      <th></th>\n",
              "      <th>sex</th>\n",
              "      <th>age</th>\n",
              "      <th>juv_fel_count</th>\n",
              "      <th>decile_score</th>\n",
              "      <th>juv_misd_count</th>\n",
              "      <th>juv_other_count</th>\n",
              "      <th>priors_count</th>\n",
              "      <th>is_recid</th>\n",
              "      <th>is_violent_recid</th>\n",
              "      <th>two_year_recid</th>\n",
              "      <th>stay_length_day</th>\n",
              "      <th>entered_jail</th>\n",
              "      <th>felony</th>\n",
              "    </tr>\n",
              "  </thead>\n",
              "  <tbody>\n",
              "    <tr>\n",
              "      <th>sex</th>\n",
              "      <td>1.000000</td>\n",
              "      <td>-0.003215</td>\n",
              "      <td>0.055385</td>\n",
              "      <td>0.057860</td>\n",
              "      <td>0.047637</td>\n",
              "      <td>0.056384</td>\n",
              "      <td>0.119556</td>\n",
              "      <td>0.099190</td>\n",
              "      <td>0.059051</td>\n",
              "      <td>0.092169</td>\n",
              "      <td>0.056609</td>\n",
              "      <td>0.013274</td>\n",
              "      <td>0.053814</td>\n",
              "    </tr>\n",
              "    <tr>\n",
              "      <th>age</th>\n",
              "      <td>-0.003215</td>\n",
              "      <td>1.000000</td>\n",
              "      <td>-0.066003</td>\n",
              "      <td>-0.387733</td>\n",
              "      <td>-0.116833</td>\n",
              "      <td>-0.155286</td>\n",
              "      <td>0.142773</td>\n",
              "      <td>-0.197393</td>\n",
              "      <td>-0.097033</td>\n",
              "      <td>-0.190323</td>\n",
              "      <td>0.013980</td>\n",
              "      <td>-0.063651</td>\n",
              "      <td>-0.085623</td>\n",
              "    </tr>\n",
              "    <tr>\n",
              "      <th>juv_fel_count</th>\n",
              "      <td>0.055385</td>\n",
              "      <td>-0.066003</td>\n",
              "      <td>1.000000</td>\n",
              "      <td>0.177758</td>\n",
              "      <td>0.089153</td>\n",
              "      <td>0.047210</td>\n",
              "      <td>0.178519</td>\n",
              "      <td>0.094038</td>\n",
              "      <td>0.055261</td>\n",
              "      <td>0.092546</td>\n",
              "      <td>0.062571</td>\n",
              "      <td>0.011070</td>\n",
              "      <td>0.046081</td>\n",
              "    </tr>\n",
              "    <tr>\n",
              "      <th>decile_score</th>\n",
              "      <td>0.057860</td>\n",
              "      <td>-0.387733</td>\n",
              "      <td>0.177758</td>\n",
              "      <td>1.000000</td>\n",
              "      <td>0.215927</td>\n",
              "      <td>0.183463</td>\n",
              "      <td>0.435350</td>\n",
              "      <td>0.352337</td>\n",
              "      <td>0.171292</td>\n",
              "      <td>0.350703</td>\n",
              "      <td>0.208530</td>\n",
              "      <td>-0.000376</td>\n",
              "      <td>0.182201</td>\n",
              "    </tr>\n",
              "    <tr>\n",
              "      <th>juv_misd_count</th>\n",
              "      <td>0.047637</td>\n",
              "      <td>-0.116833</td>\n",
              "      <td>0.089153</td>\n",
              "      <td>0.215927</td>\n",
              "      <td>1.000000</td>\n",
              "      <td>0.272421</td>\n",
              "      <td>0.243671</td>\n",
              "      <td>0.111709</td>\n",
              "      <td>0.089628</td>\n",
              "      <td>0.109310</td>\n",
              "      <td>0.045179</td>\n",
              "      <td>0.004128</td>\n",
              "      <td>0.032098</td>\n",
              "    </tr>\n",
              "    <tr>\n",
              "      <th>juv_other_count</th>\n",
              "      <td>0.056384</td>\n",
              "      <td>-0.155286</td>\n",
              "      <td>0.047210</td>\n",
              "      <td>0.183463</td>\n",
              "      <td>0.272421</td>\n",
              "      <td>1.000000</td>\n",
              "      <td>0.103611</td>\n",
              "      <td>0.109179</td>\n",
              "      <td>0.053514</td>\n",
              "      <td>0.108004</td>\n",
              "      <td>0.042447</td>\n",
              "      <td>-0.003318</td>\n",
              "      <td>0.034508</td>\n",
              "    </tr>\n",
              "    <tr>\n",
              "      <th>priors_count</th>\n",
              "      <td>0.119556</td>\n",
              "      <td>0.142773</td>\n",
              "      <td>0.178519</td>\n",
              "      <td>0.435350</td>\n",
              "      <td>0.243671</td>\n",
              "      <td>0.103611</td>\n",
              "      <td>1.000000</td>\n",
              "      <td>0.277780</td>\n",
              "      <td>0.091209</td>\n",
              "      <td>0.275117</td>\n",
              "      <td>0.196339</td>\n",
              "      <td>0.021525</td>\n",
              "      <td>0.143621</td>\n",
              "    </tr>\n",
              "    <tr>\n",
              "      <th>is_recid</th>\n",
              "      <td>0.099190</td>\n",
              "      <td>-0.197393</td>\n",
              "      <td>0.094038</td>\n",
              "      <td>0.352337</td>\n",
              "      <td>0.111709</td>\n",
              "      <td>0.109179</td>\n",
              "      <td>0.277780</td>\n",
              "      <td>1.000000</td>\n",
              "      <td>0.371624</td>\n",
              "      <td>0.940544</td>\n",
              "      <td>0.124024</td>\n",
              "      <td>0.116432</td>\n",
              "      <td>0.100978</td>\n",
              "    </tr>\n",
              "    <tr>\n",
              "      <th>is_violent_recid</th>\n",
              "      <td>0.059051</td>\n",
              "      <td>-0.097033</td>\n",
              "      <td>0.055261</td>\n",
              "      <td>0.171292</td>\n",
              "      <td>0.089628</td>\n",
              "      <td>0.053514</td>\n",
              "      <td>0.091209</td>\n",
              "      <td>0.371624</td>\n",
              "      <td>1.000000</td>\n",
              "      <td>0.356476</td>\n",
              "      <td>0.077379</td>\n",
              "      <td>0.040812</td>\n",
              "      <td>-0.013464</td>\n",
              "    </tr>\n",
              "    <tr>\n",
              "      <th>two_year_recid</th>\n",
              "      <td>0.092169</td>\n",
              "      <td>-0.190323</td>\n",
              "      <td>0.092546</td>\n",
              "      <td>0.350703</td>\n",
              "      <td>0.109310</td>\n",
              "      <td>0.108004</td>\n",
              "      <td>0.275117</td>\n",
              "      <td>0.940544</td>\n",
              "      <td>0.356476</td>\n",
              "      <td>1.000000</td>\n",
              "      <td>0.124681</td>\n",
              "      <td>0.115040</td>\n",
              "      <td>0.104488</td>\n",
              "    </tr>\n",
              "    <tr>\n",
              "      <th>stay_length_day</th>\n",
              "      <td>0.056609</td>\n",
              "      <td>0.013980</td>\n",
              "      <td>0.062571</td>\n",
              "      <td>0.208530</td>\n",
              "      <td>0.045179</td>\n",
              "      <td>0.042447</td>\n",
              "      <td>0.196339</td>\n",
              "      <td>0.124024</td>\n",
              "      <td>0.077379</td>\n",
              "      <td>0.124681</td>\n",
              "      <td>1.000000</td>\n",
              "      <td>0.077443</td>\n",
              "      <td>0.126202</td>\n",
              "    </tr>\n",
              "    <tr>\n",
              "      <th>entered_jail</th>\n",
              "      <td>0.013274</td>\n",
              "      <td>-0.063651</td>\n",
              "      <td>0.011070</td>\n",
              "      <td>-0.000376</td>\n",
              "      <td>0.004128</td>\n",
              "      <td>-0.003318</td>\n",
              "      <td>0.021525</td>\n",
              "      <td>0.116432</td>\n",
              "      <td>0.040812</td>\n",
              "      <td>0.115040</td>\n",
              "      <td>0.077443</td>\n",
              "      <td>1.000000</td>\n",
              "      <td>0.055412</td>\n",
              "    </tr>\n",
              "    <tr>\n",
              "      <th>felony</th>\n",
              "      <td>0.053814</td>\n",
              "      <td>-0.085623</td>\n",
              "      <td>0.046081</td>\n",
              "      <td>0.182201</td>\n",
              "      <td>0.032098</td>\n",
              "      <td>0.034508</td>\n",
              "      <td>0.143621</td>\n",
              "      <td>0.100978</td>\n",
              "      <td>-0.013464</td>\n",
              "      <td>0.104488</td>\n",
              "      <td>0.126202</td>\n",
              "      <td>0.055412</td>\n",
              "      <td>1.000000</td>\n",
              "    </tr>\n",
              "  </tbody>\n",
              "</table>\n",
              "</div>"
            ],
            "text/plain": [
              "                       sex       age  ...  entered_jail    felony\n",
              "sex               1.000000 -0.003215  ...      0.013274  0.053814\n",
              "age              -0.003215  1.000000  ...     -0.063651 -0.085623\n",
              "juv_fel_count     0.055385 -0.066003  ...      0.011070  0.046081\n",
              "decile_score      0.057860 -0.387733  ...     -0.000376  0.182201\n",
              "juv_misd_count    0.047637 -0.116833  ...      0.004128  0.032098\n",
              "juv_other_count   0.056384 -0.155286  ...     -0.003318  0.034508\n",
              "priors_count      0.119556  0.142773  ...      0.021525  0.143621\n",
              "is_recid          0.099190 -0.197393  ...      0.116432  0.100978\n",
              "is_violent_recid  0.059051 -0.097033  ...      0.040812 -0.013464\n",
              "two_year_recid    0.092169 -0.190323  ...      0.115040  0.104488\n",
              "stay_length_day   0.056609  0.013980  ...      0.077443  0.126202\n",
              "entered_jail      0.013274 -0.063651  ...      1.000000  0.055412\n",
              "felony            0.053814 -0.085623  ...      0.055412  1.000000\n",
              "\n",
              "[13 rows x 13 columns]"
            ]
          },
          "metadata": {},
          "execution_count": 535
        }
      ]
    },
    {
      "cell_type": "markdown",
      "metadata": {
        "id": "xMQElVnX91y_"
      },
      "source": [
        "Before modeling, create dummy variables for categorical features. If I were creating a data pipeline and putting this algorithm into production, I would be using OHE. However, since my model is contained to this data set, I'm shortcutting with get_dummies."
      ]
    },
    {
      "cell_type": "code",
      "metadata": {
        "id": "4Jt_-CsFEtVr"
      },
      "source": [
        "df = pd.get_dummies(df)\n",
        "df.drop([\"race_Other\", \"charge_category_Arson\"], axis=1, inplace = True)"
      ],
      "execution_count": 536,
      "outputs": []
    },
    {
      "cell_type": "code",
      "metadata": {
        "colab": {
          "base_uri": "https://localhost:8080/"
        },
        "id": "cxJ2kvs-4XPL",
        "outputId": "ec8091ba-679d-45c6-fa4e-ff49d966a8e1"
      },
      "source": [
        "df.columns"
      ],
      "execution_count": 537,
      "outputs": [
        {
          "output_type": "execute_result",
          "data": {
            "text/plain": [
              "Index(['sex', 'age', 'juv_fel_count', 'decile_score', 'juv_misd_count',\n",
              "       'juv_other_count', 'priors_count', 'is_recid', 'is_violent_recid',\n",
              "       'two_year_recid', 'stay_length_day', 'entered_jail', 'felony',\n",
              "       'race_African-American', 'race_Asian', 'race_Caucasian',\n",
              "       'race_Hispanic', 'race_Native American',\n",
              "       'charge_category_Assault/Battery', 'charge_category_Child',\n",
              "       'charge_category_Disorder', 'charge_category_Domestic Abuse',\n",
              "       'charge_category_Driving', 'charge_category_Drugs',\n",
              "       'charge_category_Firearm', 'charge_category_Interference',\n",
              "       'charge_category_Kidnapping/Stalking', 'charge_category_Mischief',\n",
              "       'charge_category_Murder', 'charge_category_No Charge',\n",
              "       'charge_category_Other', 'charge_category_Sexual',\n",
              "       'charge_category_Theft'],\n",
              "      dtype='object')"
            ]
          },
          "metadata": {},
          "execution_count": 537
        }
      ]
    },
    {
      "cell_type": "code",
      "metadata": {
        "id": "gbcHlOs1o5yi"
      },
      "source": [
        "# sns.pairplot(df, hue = \"two_year_recid\")"
      ],
      "execution_count": 538,
      "outputs": []
    },
    {
      "cell_type": "markdown",
      "metadata": {
        "id": "de_J4deOEtVs"
      },
      "source": [
        "### Patterns:\n",
        "- Female recidivism is lower\n",
        "- Younger criminals have higher recidivism rates\n",
        "    - May be connected to crime more directly\n",
        "    - Long second sentence or other adverse life experience may prevent older criminals from returning to prison. \n",
        "- Middle Aged White/Non-Black Males have lower recidivism rates\n",
        "- Drug Charges had the greatest likelihood of recidivism\n",
        "\n"
      ]
    },
    {
      "cell_type": "markdown",
      "metadata": {
        "id": "FFrSDg7IEtVs"
      },
      "source": [
        "## Feature Engineering\n",
        "Several patterns deserve further analysis in feature engineering (the visualizations for this process have been created in tableau and will be included in the final presentation):\n",
        "- Stay_v_age: The difference in stay length for older prisoners who have/have not gone back to jail is much higher than the dfference for young prisoners. This feature increases the focus on older prisoners with longer stays.\n",
        "- priors_v_age: a similar relationship with the number of priors, i.e. the older a prisoner gets, the more significant a difference in prior counts between people who did or did not recidivate.\n",
        "- Young_AA: Young african americans were far more like to recidivate compared to other racial groups and age groups.\n"
      ]
    },
    {
      "cell_type": "code",
      "metadata": {
        "id": "X4vnF89cEtVs"
      },
      "source": [
        "df[\"stay_v_age\"] = df[\"stay_length_day\"]*df[\"age\"]\n",
        "\n",
        "df[\"priors_v_age\"] = df[\"priors_count\"]*df[\"age\"]\n",
        "\n",
        "df[\"Young_AA\"] = df['race_African-American'] * (df[\"age\"]<30)\n",
        "\n",
        "# df[\"age^2\"] = df[\"age\"]**2\n",
        "\n",
        "# df[\"priors^2\"] = df[\"priors_count\"]**2\n",
        "\n",
        "\n",
        "\n"
      ],
      "execution_count": 539,
      "outputs": []
    },
    {
      "cell_type": "markdown",
      "metadata": {
        "id": "3NA6wcytEtVs"
      },
      "source": [
        "# Modeling"
      ]
    },
    {
      "cell_type": "markdown",
      "metadata": {
        "id": "oXfM6ce0EtVt"
      },
      "source": [
        "## Splitting"
      ]
    },
    {
      "cell_type": "code",
      "metadata": {
        "id": "uAnw4AZvEtVt"
      },
      "source": [
        "from sklearn.linear_model import LogisticRegression, LogisticRegressionCV\n",
        "from sklearn.pipeline import Pipeline\n",
        "from sklearn.preprocessing import StandardScaler, OneHotEncoder\n",
        "from sklearn.model_selection import train_test_split, GridSearchCV, RandomizedSearchCV, cross_val_score\n",
        "from sklearn.metrics import precision_score, recall_score, accuracy_score, SCORERS\n",
        "from sklearn.metrics import roc_auc_score, f1_score, confusion_matrix, log_loss\n",
        "from sklearn.ensemble import RandomForestClassifier, VotingClassifier, GradientBoostingClassifier\n",
        "from sklearn.svm import SVC\n",
        "import xgboost as xgb\n",
        "from lightgbm import LGBMClassifier\n",
        "import lightgbm as lgb\n",
        "\n",
        "#to check for different target variables, swap out test_for from testable list\n",
        "test_for = \"two_year_recid\"\n",
        "testable = [\"is_recid\", \"is_violent_recid\", \"two_year_recid\", \"decile_score\"]\n",
        "\n",
        "#pull and split up data for initial analysis\n",
        "X = df.drop(testable, axis = 1)\n",
        "y = df[test_for]\n",
        "\n",
        "#split train and test\n",
        "X_train, X_test, y_train, y_test = train_test_split(X, y, test_size = 0.2, random_state = 23)\n",
        "\n",
        "#scaled features to determine weights\n",
        "scaler = StandardScaler()\n",
        "X_train_scaled = scaler.fit_transform(X_train)\n",
        "X_test_scaled = scaler.transform(X_test)\n"
      ],
      "execution_count": 540,
      "outputs": []
    },
    {
      "cell_type": "code",
      "metadata": {
        "id": "cjMHQ6HoEtVu"
      },
      "source": [
        "#add scoring model for quick and easy analysis\n",
        "def score_this_model(model, loc_X = X_test_scaled, loc_y = y_test, is_tree = False):\n",
        "    # if is_tree:\n",
        "    #     results = model.predict(loc_X)\n",
        "    # else:\n",
        "    #     \n",
        "    results = model.predict(loc_X)\n",
        "    print(\"accuracy: {:6.4f}\".format(accuracy_score(loc_y, results)))    \n",
        "    print(\"precision: {:6.4f}\".format(precision_score(loc_y, results)))\n",
        "    print(\"recall: {:6.4f}\".format(recall_score(loc_y, results)))\n",
        "    print(\"roc_auc_score: {:6.4f}\".format(roc_auc_score(loc_y, results)))\n",
        "    print(\"f1_score: {:6.4f}\".format(f1_score(loc_y, results)))\n",
        "    print(\"log_loss: {:6.4f}\".format(log_loss(loc_y, model.predict_proba(loc_X))))\n",
        "    print(confusion_matrix(loc_y, results))"
      ],
      "execution_count": 541,
      "outputs": []
    },
    {
      "cell_type": "markdown",
      "metadata": {
        "id": "ZdwEx2LNEtVu"
      },
      "source": [
        "## Logistic Regression\n",
        "\n",
        "An intital test for binary classification ultimately becomes the best model."
      ]
    },
    {
      "cell_type": "code",
      "metadata": {
        "colab": {
          "base_uri": "https://localhost:8080/"
        },
        "id": "2XETP5dc_8ix",
        "outputId": "5b230e9f-7f79-4dea-bc8d-411f4c401cfb"
      },
      "source": [
        "log = LogisticRegression()\n",
        "log.fit(X_train_scaled, y_train)\n",
        "score_this_model(log)\n",
        "\n"
      ],
      "execution_count": 542,
      "outputs": [
        {
          "output_type": "stream",
          "name": "stdout",
          "text": [
            "accuracy: 0.6937\n",
            "precision: 0.6672\n",
            "recall: 0.6107\n",
            "roc_auc_score: 0.6850\n",
            "f1_score: 0.6377\n",
            "log_loss: 0.5977\n",
            "[[612 194]\n",
            " [248 389]]\n"
          ]
        }
      ]
    },
    {
      "cell_type": "markdown",
      "metadata": {
        "id": "UIbhDHBSaYU6"
      },
      "source": [
        "A simple model produces promising results - an accuracy that is sufficient for industry standards, and quickly. Let's see if any optimization can be done, especially if we focus on the f1-score to score the model, to balance percision and recall."
      ]
    },
    {
      "cell_type": "code",
      "metadata": {
        "colab": {
          "base_uri": "https://localhost:8080/"
        },
        "id": "o225jv9YBJ10",
        "outputId": "3f39bff5-b4cd-4007-e366-951e5912af25"
      },
      "source": [
        "log_params = {'C' : np.logspace(-4, 4, 20),\n",
        "            \"penalty\" : [\"l2\", \"none\"]} \n",
        "\n",
        "log = LogisticRegression()\n",
        "grid_log = GridSearchCV(log, param_grid = log_params, cv = 5, scoring=\"accuracy\", n_jobs = -1)\n",
        "grid_log.fit(X_train_scaled, y_train)\n",
        "\n",
        "print(\"Best params: \", grid_log.best_params_)\n",
        "print(\"Best estimator: \", grid_log.best_estimator_)\n",
        "print(\"Best score: \", grid_log.best_score_)\n",
        "best_model = grid_log.best_estimator_\n"
      ],
      "execution_count": 543,
      "outputs": [
        {
          "output_type": "stream",
          "name": "stdout",
          "text": [
            "Best params:  {'C': 1.623776739188721, 'penalty': 'l2'}\n",
            "Best estimator:  LogisticRegression(C=1.623776739188721)\n",
            "Best score:  0.6752708066052954\n"
          ]
        }
      ]
    },
    {
      "cell_type": "markdown",
      "metadata": {
        "id": "EF3mgFvnbi_Q"
      },
      "source": [
        "Our optimized model has a slight drop in accuracy, but for a much better balance between precision and recall."
      ]
    },
    {
      "cell_type": "code",
      "metadata": {
        "colab": {
          "base_uri": "https://localhost:8080/"
        },
        "id": "z8pKhe9jPzHe",
        "outputId": "a972e747-8a6e-4df7-c24d-b4d2982d33c4"
      },
      "source": [
        "score_this_model(grid_log.best_estimator_)"
      ],
      "execution_count": 544,
      "outputs": [
        {
          "output_type": "stream",
          "name": "stdout",
          "text": [
            "accuracy: 0.6937\n",
            "precision: 0.6672\n",
            "recall: 0.6107\n",
            "roc_auc_score: 0.6850\n",
            "f1_score: 0.6377\n",
            "log_loss: 0.5977\n",
            "[[612 194]\n",
            " [248 389]]\n"
          ]
        }
      ]
    },
    {
      "cell_type": "markdown",
      "metadata": {
        "id": "FRVDrZd0b2IW"
      },
      "source": [
        "The following features play a significant role in the probability of a prisoner recidivating. We see 3 underlying factors here: \n",
        "- The prior crime count of a prisoner is a strong positive factor.\n",
        "- A prisoner entering/staying in jail is more likely to recidivate\n",
        "- The older a prisoner is, the less likely they are to recidivate, unless they are black."
      ]
    },
    {
      "cell_type": "code",
      "metadata": {
        "colab": {
          "base_uri": "https://localhost:8080/",
          "height": 421
        },
        "id": "vqnDqRAN61K8",
        "outputId": "1c676eea-4894-4df2-b8d2-f6dac6085156"
      },
      "source": [
        "coefs = pd.Series(grid_log.best_estimator_.coef_[0], X.columns).sort_values()\n",
        "log_coefs = pd.DataFrame(coefs[coefs.abs()>.10], columns = [\"weight\"])\n",
        "log_coefs"
      ],
      "execution_count": 545,
      "outputs": [
        {
          "output_type": "execute_result",
          "data": {
            "text/html": [
              "<div>\n",
              "<style scoped>\n",
              "    .dataframe tbody tr th:only-of-type {\n",
              "        vertical-align: middle;\n",
              "    }\n",
              "\n",
              "    .dataframe tbody tr th {\n",
              "        vertical-align: top;\n",
              "    }\n",
              "\n",
              "    .dataframe thead th {\n",
              "        text-align: right;\n",
              "    }\n",
              "</style>\n",
              "<table border=\"1\" class=\"dataframe\">\n",
              "  <thead>\n",
              "    <tr style=\"text-align: right;\">\n",
              "      <th></th>\n",
              "      <th>weight</th>\n",
              "    </tr>\n",
              "  </thead>\n",
              "  <tbody>\n",
              "    <tr>\n",
              "      <th>priors_v_age</th>\n",
              "      <td>-0.406482</td>\n",
              "    </tr>\n",
              "    <tr>\n",
              "      <th>age</th>\n",
              "      <td>-0.356129</td>\n",
              "    </tr>\n",
              "    <tr>\n",
              "      <th>juv_other_count</th>\n",
              "      <td>0.102592</td>\n",
              "    </tr>\n",
              "    <tr>\n",
              "      <th>charge_category_Assault/Battery</th>\n",
              "      <td>0.104391</td>\n",
              "    </tr>\n",
              "    <tr>\n",
              "      <th>sex</th>\n",
              "      <td>0.104708</td>\n",
              "    </tr>\n",
              "    <tr>\n",
              "      <th>stay_length_day</th>\n",
              "      <td>0.113284</td>\n",
              "    </tr>\n",
              "    <tr>\n",
              "      <th>juv_fel_count</th>\n",
              "      <td>0.127097</td>\n",
              "    </tr>\n",
              "    <tr>\n",
              "      <th>charge_category_Theft</th>\n",
              "      <td>0.160741</td>\n",
              "    </tr>\n",
              "    <tr>\n",
              "      <th>Young_AA</th>\n",
              "      <td>0.181097</td>\n",
              "    </tr>\n",
              "    <tr>\n",
              "      <th>charge_category_Drugs</th>\n",
              "      <td>0.194614</td>\n",
              "    </tr>\n",
              "    <tr>\n",
              "      <th>entered_jail</th>\n",
              "      <td>0.235599</td>\n",
              "    </tr>\n",
              "    <tr>\n",
              "      <th>priors_count</th>\n",
              "      <td>1.099539</td>\n",
              "    </tr>\n",
              "  </tbody>\n",
              "</table>\n",
              "</div>"
            ],
            "text/plain": [
              "                                   weight\n",
              "priors_v_age                    -0.406482\n",
              "age                             -0.356129\n",
              "juv_other_count                  0.102592\n",
              "charge_category_Assault/Battery  0.104391\n",
              "sex                              0.104708\n",
              "stay_length_day                  0.113284\n",
              "juv_fel_count                    0.127097\n",
              "charge_category_Theft            0.160741\n",
              "Young_AA                         0.181097\n",
              "charge_category_Drugs            0.194614\n",
              "entered_jail                     0.235599\n",
              "priors_count                     1.099539"
            ]
          },
          "metadata": {},
          "execution_count": 545
        }
      ]
    },
    {
      "cell_type": "markdown",
      "metadata": {
        "id": "pQFozpGaEtV4"
      },
      "source": [
        "## XGBoost\n",
        "I wanted to compare the relatively simple logistic regression with a more powerful classification model, to see what else was possible."
      ]
    },
    {
      "cell_type": "code",
      "metadata": {
        "colab": {
          "base_uri": "https://localhost:8080/"
        },
        "id": "NJ8wWVNljfZZ",
        "outputId": "f67f7840-9422-4e67-f02b-913768718c27"
      },
      "source": [
        "gbm = xgb.XGBClassifier()\n",
        "gbm.fit(X_train, y_train)\n",
        "score_this_model(gbm, loc_X = X_test, is_tree = True)"
      ],
      "execution_count": 546,
      "outputs": [
        {
          "output_type": "stream",
          "name": "stdout",
          "text": [
            "accuracy: 0.7041\n",
            "precision: 0.6733\n",
            "recall: 0.6405\n",
            "roc_auc_score: 0.6974\n",
            "f1_score: 0.6565\n",
            "log_loss: 0.5779\n",
            "[[608 198]\n",
            " [229 408]]\n"
          ]
        }
      ]
    },
    {
      "cell_type": "markdown",
      "metadata": {
        "id": "RuJaLMD4hFO3"
      },
      "source": [
        "So without any optimization, XGBoost is already close to logistic regression in accuracy. Let's optimize the function to see what we can improve. XGBoost is slow, so I'm using RandomizeSearchCV to standardize the timing."
      ]
    },
    {
      "cell_type": "code",
      "metadata": {
        "colab": {
          "base_uri": "https://localhost:8080/"
        },
        "id": "AQx32REI3cbQ",
        "outputId": "a0677e83-3134-4f11-807c-86272057e77e"
      },
      "source": [
        "xgbc = xgb.XGBClassifier(objective= 'binary:logistic',\n",
        "                         nthread=4)\n",
        "\n",
        "params = {\n",
        "    'max_depth': range (2, 11, 1),\n",
        "    'n_estimators': range(50, 261, 20),\n",
        "    'learning_rate': np.logspace(-0.5,-2, 5)\n",
        "}\n",
        "\n",
        "\n",
        "\n",
        "grid_xgb = RandomizedSearchCV(xgbc,\n",
        "                              param_distributions=params,\n",
        "                              n_iter = 20, \n",
        "                              scoring = \"accuracy\",\n",
        "                              n_jobs = -1,\n",
        "                              cv = 5,\n",
        "                              verbose=True)\n",
        "\n",
        "grid_xgb.fit(X_train, y_train)\n",
        "\n",
        "print(\"Best params: \", grid_xgb.best_params_)\n",
        "print(\"Best estimator: \", grid_xgb.best_estimator_)\n",
        "print(\"Best score: \", grid_xgb.best_score_)\n"
      ],
      "execution_count": 547,
      "outputs": [
        {
          "output_type": "stream",
          "name": "stdout",
          "text": [
            "Fitting 5 folds for each of 20 candidates, totalling 100 fits\n",
            "Best params:  {'n_estimators': 90, 'max_depth': 2, 'learning_rate': 0.1333521432163324}\n",
            "Best estimator:  XGBClassifier(learning_rate=0.1333521432163324, max_depth=2, n_estimators=90,\n",
            "              nthread=4)\n",
            "Best score:  0.6905192554412658\n"
          ]
        }
      ]
    },
    {
      "cell_type": "markdown",
      "metadata": {
        "id": "32jNZn1NmW37"
      },
      "source": [
        "Tuning variables did not produce tremendous success, but the initial model was still strong enough to feel confident in. An examination of feature weights shows that the breakdown is similar to logisitc regresion, but slightly more nuanced, including a focus on certain charge types, sex, and race."
      ]
    },
    {
      "cell_type": "code",
      "metadata": {
        "colab": {
          "base_uri": "https://localhost:8080/"
        },
        "id": "P5SkTKYYqYUK",
        "outputId": "6649dc84-3062-4cd8-8c04-fa1ece773734"
      },
      "source": [
        "gbm_coefs = pd.Series(gbm.feature_importances_, X.columns).sort_values(ascending = False)\n",
        "gbm_coefs[gbm_coefs>.03]"
      ],
      "execution_count": 548,
      "outputs": [
        {
          "output_type": "execute_result",
          "data": {
            "text/plain": [
              "priors_count                 0.216991\n",
              "entered_jail                 0.113548\n",
              "age                          0.084678\n",
              "charge_category_Other        0.051206\n",
              "Young_AA                     0.045154\n",
              "sex                          0.038696\n",
              "charge_category_Drugs        0.038176\n",
              "juv_other_count              0.037896\n",
              "stay_length_day              0.035382\n",
              "charge_category_No Charge    0.031391\n",
              "dtype: float32"
            ]
          },
          "metadata": {},
          "execution_count": 548
        }
      ]
    },
    {
      "cell_type": "code",
      "metadata": {
        "id": "G1W7RpO1i81S"
      },
      "source": [
        "#Install What-If Tool Widget and SHAP library\n",
        "!pip install --upgrade --quiet witwidget shap"
      ],
      "execution_count": 549,
      "outputs": []
    },
    {
      "cell_type": "code",
      "metadata": {
        "colab": {
          "base_uri": "https://localhost:8080/",
          "height": 581
        },
        "id": "2NapmWQgigOo",
        "outputId": "7288e75b-58fd-4969-cecd-7c2a55043946"
      },
      "source": [
        "import shap\n",
        "shap_values = shap.TreeExplainer(gbm).shap_values(X)\n",
        "shap.summary_plot(shap_values, X, plot_type = \"bar\",)"
      ],
      "execution_count": 550,
      "outputs": [
        {
          "output_type": "display_data",
          "data": {
            "image/png": "[encoded data removed]",
            "text/plain": [
              "<Figure size 576x684 with 1 Axes>"
            ]
          },
          "metadata": {}
        }
      ]
    },
    {
      "cell_type": "markdown",
      "metadata": {
        "id": "yXdkW9zSEtV6"
      },
      "source": [
        "## Model Performance by Race\n",
        "\n",
        "To further control for race, filtered data sets for black and white defendants, to see the effectiveness of each predictive model.\n",
        "These results won't be entirely accurate, as there is some leakage of the train data that is somewhat unavoidable, but they really function comparitavely"
      ]
    },
    {
      "cell_type": "code",
      "metadata": {
        "id": "iXMuJnfrEtV6"
      },
      "source": [
        "white_X = X[X[\"race_Caucasian\"]== 1]\n",
        "white_y = y[X[\"race_Caucasian\"]== 1]\n",
        "\n",
        "black_X = X[X[\"race_African-American\"]== 1]\n",
        "black_y = y[X[\"race_African-American\"]== 1]\n",
        "\n",
        "X_scaled_white = scaler.transform(white_X)\n",
        "X_scaled_black = scaler.transform(black_X)\n",
        "\n"
      ],
      "execution_count": 551,
      "outputs": []
    },
    {
      "cell_type": "markdown",
      "metadata": {
        "id": "nyBTeLhhshnF"
      },
      "source": [
        "Interestingly, recall is much lower for white prisoners, indicating that the model frequently misses white prisoners who recidivate."
      ]
    },
    {
      "cell_type": "code",
      "metadata": {
        "id": "ZIssSIrlEtV7",
        "colab": {
          "base_uri": "https://localhost:8080/"
        },
        "outputId": "a4658159-be89-4e6e-ff72-d7b8b441e4f9"
      },
      "source": [
        "print(\"white prisoners\")\n",
        "print(\"\")\n",
        "score_this_model(best_model, X_scaled_white, white_y)\n",
        "print(\"\")\n",
        "print(\"black prisoners\")\n",
        "print(\"\")\n",
        "score_this_model(best_model, X_scaled_black, black_y)"
      ],
      "execution_count": 552,
      "outputs": [
        {
          "output_type": "stream",
          "name": "stdout",
          "text": [
            "white prisoners\n",
            "\n",
            "accuracy: 0.6801\n",
            "precision: 0.6496\n",
            "recall: 0.4068\n",
            "roc_auc_score: 0.6322\n",
            "f1_score: 0.5003\n",
            "log_loss: 0.6005\n",
            "[[1276  212]\n",
            " [ 573  393]]\n",
            "\n",
            "black prisoners\n",
            "\n",
            "accuracy: 0.6834\n",
            "precision: 0.6885\n",
            "recall: 0.7023\n",
            "roc_auc_score: 0.6829\n",
            "f1_score: 0.6953\n",
            "log_loss: 0.6035\n",
            "[[1191  604]\n",
            " [ 566 1335]]\n"
          ]
        }
      ]
    },
    {
      "cell_type": "markdown",
      "metadata": {
        "id": "5DpYuLXpEtV7"
      },
      "source": [
        "## Visualizations\n"
      ]
    },
    {
      "cell_type": "markdown",
      "metadata": {
        "id": "9KBkiBdx9MIh"
      },
      "source": [
        "Here is a final visualization of the logistic regression model's confusion matrix, which helps give a clearer picture of how successful the algorithm is."
      ]
    },
    {
      "cell_type": "code",
      "metadata": {
        "id": "qf3V3xRIEtV7",
        "colab": {
          "base_uri": "https://localhost:8080/",
          "height": 584
        },
        "outputId": "f7d67849-b295-4029-befc-6edef69a707c"
      },
      "source": [
        "plt.style.use('ggplot')\n",
        "confusion = confusion_matrix(y_test, gbm.predict(X_test))\n",
        "plt.figure(figsize=(10,10))\n",
        "sns.heatmap(confusion,\n",
        "            cmap = 'Blues',\n",
        "            annot=True,\n",
        "            square=True,\n",
        "            xticklabels = [\"Not Reoffend\", \"Reoffend\"],\n",
        "            yticklabels = [\"Not Reoffend\", \"Reoffend\"],\n",
        "            fmt = \"g\",\n",
        "            norm = matplotlib.colors.Normalize(vmin=0, vmax=600))\n",
        "plt.xlabel('Predicted')\n",
        "plt.ylabel('Actual')\n",
        "plt.title('Recidivism Confusion Matrix', fontdict={'fontsize':18});\n"
      ],
      "execution_count": 553,
      "outputs": [
        {
          "output_type": "display_data",
          "data": {
            "image/png": "[encoded data removed]",
            "text/plain": [
              "<Figure size 720x720 with 2 Axes>"
            ]
          },
          "metadata": {}
        }
      ]
    },
    {
      "cell_type": "markdown",
      "metadata": {
        "id": "I-WR-kIX9cGB"
      },
      "source": [
        "Here is a chart of relative feature weights from that algorithm, which allow us to examine the role that different factors play in the judicial system and sentencing."
      ]
    },
    {
      "cell_type": "code",
      "metadata": {
        "id": "QZcJ3exhEtV7",
        "colab": {
          "base_uri": "https://localhost:8080/",
          "height": 537
        },
        "outputId": "a8f2e950-a11b-414c-c7cd-1bae516aa57e"
      },
      "source": [
        "labels = [\"Priors x Age\", \n",
        "          \"Age\", \n",
        "          \"Juvenile Counts - Other\", \n",
        "          \"Charge - Assault/Batt.\",\n",
        "          \"Sex (Male)\",\n",
        "          \"Stay Length, Days\",\n",
        "          \"Juvenile Counts - Felony\",\n",
        "          \"Charge - Theft\",\n",
        "          \"Young/Black\",\n",
        "          \"Charge - Drugs\",\n",
        "          \"Entered Jail\",\n",
        "          \"Priors\"]\n",
        "\n",
        "plt.style.use('ggplot')\n",
        "plt.figure(figsize=(12,8))\n",
        "\n",
        "sns.barplot(x= log_coefs[\"weight\"], \n",
        "            y = labels, \n",
        "            hue = log_coefs[\"weight\"]>0,\n",
        "            orient = \"h\",  \n",
        "            palette=\"Blues\")\n",
        "\n",
        "plt.xlabel(\"Weight\", fontdict={'fontsize':16})\n",
        "plt.yticks(fontsize = 16)\n",
        "plt.title('Recidivism Relative Feature Weights', fontdict={'fontsize':16})\n",
        "plt.legend([],[], frameon=False)"
      ],
      "execution_count": 554,
      "outputs": [
        {
          "output_type": "execute_result",
          "data": {
            "text/plain": [
              "<matplotlib.legend.Legend at 0x7f48ee1684d0>"
            ]
          },
          "metadata": {},
          "execution_count": 554
        },
        {
          "output_type": "display_data",
          "data": {
            "image/png": "[encoded data removed]",
            "text/plain": [
              "<Figure size 864x576 with 1 Axes>"
            ]
          },
          "metadata": {}
        }
      ]
    }
  ]
}